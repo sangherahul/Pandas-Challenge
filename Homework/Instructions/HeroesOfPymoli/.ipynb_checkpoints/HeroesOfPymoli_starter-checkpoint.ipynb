{
 "cells": [
  {
   "cell_type": "markdown",
   "metadata": {},
   "source": [
    "### Note\n",
    "* Instructions have been included for each segment. You do not have to follow them exactly, but they are included to help you think through the steps."
   ]
  },
  {
   "cell_type": "code",
   "execution_count": 11,
   "metadata": {},
   "outputs": [
    {
     "data": {
      "text/html": [
       "<div>\n",
       "<style scoped>\n",
       "    .dataframe tbody tr th:only-of-type {\n",
       "        vertical-align: middle;\n",
       "    }\n",
       "\n",
       "    .dataframe tbody tr th {\n",
       "        vertical-align: top;\n",
       "    }\n",
       "\n",
       "    .dataframe thead th {\n",
       "        text-align: right;\n",
       "    }\n",
       "</style>\n",
       "<table border=\"1\" class=\"dataframe\">\n",
       "  <thead>\n",
       "    <tr style=\"text-align: right;\">\n",
       "      <th></th>\n",
       "      <th>Purchase ID</th>\n",
       "      <th>SN</th>\n",
       "      <th>Age</th>\n",
       "      <th>Gender</th>\n",
       "      <th>Item ID</th>\n",
       "      <th>Item Name</th>\n",
       "      <th>Price</th>\n",
       "    </tr>\n",
       "  </thead>\n",
       "  <tbody>\n",
       "    <tr>\n",
       "      <td>0</td>\n",
       "      <td>0</td>\n",
       "      <td>Lisim78</td>\n",
       "      <td>20</td>\n",
       "      <td>Male</td>\n",
       "      <td>108</td>\n",
       "      <td>Extraction, Quickblade Of Trembling Hands</td>\n",
       "      <td>3.53</td>\n",
       "    </tr>\n",
       "    <tr>\n",
       "      <td>1</td>\n",
       "      <td>1</td>\n",
       "      <td>Lisovynya38</td>\n",
       "      <td>40</td>\n",
       "      <td>Male</td>\n",
       "      <td>143</td>\n",
       "      <td>Frenzied Scimitar</td>\n",
       "      <td>1.56</td>\n",
       "    </tr>\n",
       "    <tr>\n",
       "      <td>2</td>\n",
       "      <td>2</td>\n",
       "      <td>Ithergue48</td>\n",
       "      <td>24</td>\n",
       "      <td>Male</td>\n",
       "      <td>92</td>\n",
       "      <td>Final Critic</td>\n",
       "      <td>4.88</td>\n",
       "    </tr>\n",
       "    <tr>\n",
       "      <td>3</td>\n",
       "      <td>3</td>\n",
       "      <td>Chamassasya86</td>\n",
       "      <td>24</td>\n",
       "      <td>Male</td>\n",
       "      <td>100</td>\n",
       "      <td>Blindscythe</td>\n",
       "      <td>3.27</td>\n",
       "    </tr>\n",
       "    <tr>\n",
       "      <td>4</td>\n",
       "      <td>4</td>\n",
       "      <td>Iskosia90</td>\n",
       "      <td>23</td>\n",
       "      <td>Male</td>\n",
       "      <td>131</td>\n",
       "      <td>Fury</td>\n",
       "      <td>1.44</td>\n",
       "    </tr>\n",
       "  </tbody>\n",
       "</table>\n",
       "</div>"
      ],
      "text/plain": [
       "   Purchase ID             SN  Age Gender  Item ID  \\\n",
       "0            0        Lisim78   20   Male      108   \n",
       "1            1    Lisovynya38   40   Male      143   \n",
       "2            2     Ithergue48   24   Male       92   \n",
       "3            3  Chamassasya86   24   Male      100   \n",
       "4            4      Iskosia90   23   Male      131   \n",
       "\n",
       "                                   Item Name  Price  \n",
       "0  Extraction, Quickblade Of Trembling Hands   3.53  \n",
       "1                          Frenzied Scimitar   1.56  \n",
       "2                               Final Critic   4.88  \n",
       "3                                Blindscythe   3.27  \n",
       "4                                       Fury   1.44  "
      ]
     },
     "execution_count": 11,
     "metadata": {},
     "output_type": "execute_result"
    }
   ],
   "source": [
    "# Dependencies and Setup\n",
    "import pandas as pd\n",
    "from pprint import pprint\n",
    "\n",
    "# File to Load (Remember to Change These)\n",
    "file_to_load = \"Resources/purchase_data.csv\"\n",
    "\n",
    "# Read Purchasing File and store into Pandas data frame\n",
    "purchase_data = pd.read_csv(file_to_load)\n",
    "purchase_data.head()"
   ]
  },
  {
   "cell_type": "markdown",
   "metadata": {},
   "source": [
    "## Player Count"
   ]
  },
  {
   "cell_type": "markdown",
   "metadata": {},
   "source": [
    "* Display the total number of players\n"
   ]
  },
  {
   "cell_type": "code",
   "execution_count": 12,
   "metadata": {},
   "outputs": [
    {
     "name": "stdout",
     "output_type": "stream",
     "text": [
      "Total number of players in the data set: 576\n"
     ]
    }
   ],
   "source": [
    "print(f'Total number of players in the data set: {len(purchase_data[\"SN\"].unique())}')"
   ]
  },
  {
   "cell_type": "markdown",
   "metadata": {},
   "source": [
    "## Purchasing Analysis (Total)"
   ]
  },
  {
   "cell_type": "markdown",
   "metadata": {},
   "source": [
    "* Run basic calculations to obtain number of unique items, average price, etc.\n",
    "\n",
    "\n",
    "* Create a summary data frame to hold the results\n",
    "\n",
    "\n",
    "* Optional: give the displayed data cleaner formatting\n",
    "\n",
    "\n",
    "* Display the summary data frame\n"
   ]
  },
  {
   "cell_type": "code",
   "execution_count": 13,
   "metadata": {
    "scrolled": true
   },
   "outputs": [
    {
     "data": {
      "text/html": [
       "<div>\n",
       "<style scoped>\n",
       "    .dataframe tbody tr th:only-of-type {\n",
       "        vertical-align: middle;\n",
       "    }\n",
       "\n",
       "    .dataframe tbody tr th {\n",
       "        vertical-align: top;\n",
       "    }\n",
       "\n",
       "    .dataframe thead th {\n",
       "        text-align: right;\n",
       "    }\n",
       "</style>\n",
       "<table border=\"1\" class=\"dataframe\">\n",
       "  <thead>\n",
       "    <tr style=\"text-align: right;\">\n",
       "      <th></th>\n",
       "      <th>Number of Unique Items</th>\n",
       "      <th>Average Price</th>\n",
       "      <th>Total Number of Transactions</th>\n",
       "      <th>Total Revenue</th>\n",
       "    </tr>\n",
       "  </thead>\n",
       "  <tbody>\n",
       "    <tr>\n",
       "      <td>0</td>\n",
       "      <td>179</td>\n",
       "      <td>3.050987</td>\n",
       "      <td>780</td>\n",
       "      <td>2379.77</td>\n",
       "    </tr>\n",
       "  </tbody>\n",
       "</table>\n",
       "</div>"
      ],
      "text/plain": [
       "   Number of Unique Items  Average Price  Total Number of Transactions  \\\n",
       "0                     179       3.050987                           780   \n",
       "\n",
       "   Total Revenue  \n",
       "0        2379.77  "
      ]
     },
     "execution_count": 13,
     "metadata": {},
     "output_type": "execute_result"
    }
   ],
   "source": [
    "data=[{\"Number of Unique Items\":len(purchase_data['Item Name'].unique()), \n",
    "       \"Average Price\":purchase_data['Price'].mean(),\n",
    "       \"Total Number of Transactions\":purchase_data[\"SN\"].count() ,\n",
    "       \"Total Revenue\":purchase_data[\"Price\"].sum()}]\n",
    "\n",
    "\n",
    "summary_table=pd.DataFrame(data)\n",
    "summary_table"
   ]
  },
  {
   "cell_type": "markdown",
   "metadata": {},
   "source": [
    "## Gender Demographics"
   ]
  },
  {
   "cell_type": "markdown",
   "metadata": {},
   "source": [
    "* Percentage and Count of Male Players\n",
    "\n",
    "\n",
    "* Percentage and Count of Female Players\n",
    "\n",
    "\n",
    "* Percentage and Count of Other / Non-Disclosed\n",
    "\n",
    "\n"
   ]
  },
  {
   "cell_type": "code",
   "execution_count": 14,
   "metadata": {},
   "outputs": [
    {
     "data": {
      "text/html": [
       "<div>\n",
       "<style scoped>\n",
       "    .dataframe tbody tr th:only-of-type {\n",
       "        vertical-align: middle;\n",
       "    }\n",
       "\n",
       "    .dataframe tbody tr th {\n",
       "        vertical-align: top;\n",
       "    }\n",
       "\n",
       "    .dataframe thead th {\n",
       "        text-align: right;\n",
       "    }\n",
       "</style>\n",
       "<table border=\"1\" class=\"dataframe\">\n",
       "  <thead>\n",
       "    <tr style=\"text-align: right;\">\n",
       "      <th></th>\n",
       "      <th>Total Count</th>\n",
       "      <th>Percentage of Players</th>\n",
       "    </tr>\n",
       "  </thead>\n",
       "  <tbody>\n",
       "    <tr>\n",
       "      <td>Male</td>\n",
       "      <td>652</td>\n",
       "      <td>83.589744</td>\n",
       "    </tr>\n",
       "    <tr>\n",
       "      <td>Female</td>\n",
       "      <td>113</td>\n",
       "      <td>14.487179</td>\n",
       "    </tr>\n",
       "    <tr>\n",
       "      <td>Other/Non Disclosed</td>\n",
       "      <td>15</td>\n",
       "      <td>1.923077</td>\n",
       "    </tr>\n",
       "  </tbody>\n",
       "</table>\n",
       "</div>"
      ],
      "text/plain": [
       "                     Total Count  Percentage of Players\n",
       "Male                         652              83.589744\n",
       "Female                       113              14.487179\n",
       "Other/Non Disclosed           15               1.923077"
      ]
     },
     "execution_count": 14,
     "metadata": {},
     "output_type": "execute_result"
    }
   ],
   "source": [
    "male_data=purchase_data.loc[(purchase_data[\"Gender\"] == 'Male')]\n",
    "unique_male_ID_count=len(male_data[\"SN\"].unique())\n",
    "female_data=purchase_data.loc[(purchase_data[\"Gender\"] == 'Female')]\n",
    "unique_female_ID_count=len(female_data[\"SN\"].unique())\n",
    "other_gender=purchase_data.loc[(purchase_data[\"Gender\"] != 'Female') & (purchase_data[\"Gender\"] != 'Male')]\n",
    "other_gender_ID_count=len(other_gender[\"SN\"].unique())\n",
    "total=len(male_data)+len(female_data)+len(other_gender)\n",
    "\n",
    "Gender_data={\"Total Count\":[len(male_data),len(female_data),len(other_gender)],\"Percentage of Players\":\n",
    "            [len(male_data)/total*100,len(female_data)/total*100,len(other_gender)/total*100]}\n",
    "\n",
    "Gender_data=pd.DataFrame(Gender_data,index =[\"Male\",\"Female\",\"Other/Non Disclosed\"])\n",
    "Gender_data"
   ]
  },
  {
   "cell_type": "code",
   "execution_count": null,
   "metadata": {},
   "outputs": [],
   "source": []
  },
  {
   "cell_type": "markdown",
   "metadata": {},
   "source": [
    "\n",
    "## Purchasing Analysis (Gender)"
   ]
  },
  {
   "cell_type": "markdown",
   "metadata": {},
   "source": [
    "* Run basic calculations to obtain purchase count, avg. purchase price, avg. purchase total per person etc. by gender\n",
    "\n",
    "\n",
    "\n",
    "\n",
    "* Create a summary data frame to hold the results\n",
    "\n",
    "\n",
    "* Optional: give the displayed data cleaner formatting\n",
    "\n",
    "\n",
    "* Display the summary data frame"
   ]
  },
  {
   "cell_type": "code",
   "execution_count": 158,
   "metadata": {},
   "outputs": [
    {
     "data": {
      "text/html": [
       "<style  type=\"text/css\" >\n",
       "</style><table id=\"T_54a450b6_632e_11ea_b268_acde48001122\" ><thead>    <tr>        <th class=\"blank level0\" ></th>        <th class=\"col_heading level0 col0\" >Purchase Count</th>        <th class=\"col_heading level0 col1\" >Average Purchase Price</th>        <th class=\"col_heading level0 col2\" >Total Purchase Value</th>        <th class=\"col_heading level0 col3\" >Avg Total Purchase per Person</th>    </tr>    <tr>        <th class=\"index_name level0\" >Gender</th>        <th class=\"blank\" ></th>        <th class=\"blank\" ></th>        <th class=\"blank\" ></th>        <th class=\"blank\" ></th>    </tr></thead><tbody>\n",
       "                <tr>\n",
       "                        <th id=\"T_54a450b6_632e_11ea_b268_acde48001122level0_row0\" class=\"row_heading level0 row0\" >Male</th>\n",
       "                        <td id=\"T_54a450b6_632e_11ea_b268_acde48001122row0_col0\" class=\"data row0 col0\" >652</td>\n",
       "                        <td id=\"T_54a450b6_632e_11ea_b268_acde48001122row0_col1\" class=\"data row0 col1\" >3.01785</td>\n",
       "                        <td id=\"T_54a450b6_632e_11ea_b268_acde48001122row0_col2\" class=\"data row0 col2\" >1967.64</td>\n",
       "                        <td id=\"T_54a450b6_632e_11ea_b268_acde48001122row0_col3\" class=\"data row0 col3\" >4.06537</td>\n",
       "            </tr>\n",
       "            <tr>\n",
       "                        <th id=\"T_54a450b6_632e_11ea_b268_acde48001122level0_row1\" class=\"row_heading level0 row1\" >Female</th>\n",
       "                        <td id=\"T_54a450b6_632e_11ea_b268_acde48001122row1_col0\" class=\"data row1 col0\" >113</td>\n",
       "                        <td id=\"T_54a450b6_632e_11ea_b268_acde48001122row1_col1\" class=\"data row1 col1\" >3.20301</td>\n",
       "                        <td id=\"T_54a450b6_632e_11ea_b268_acde48001122row1_col2\" class=\"data row1 col2\" >361.94</td>\n",
       "                        <td id=\"T_54a450b6_632e_11ea_b268_acde48001122row1_col3\" class=\"data row1 col3\" >4.4684</td>\n",
       "            </tr>\n",
       "            <tr>\n",
       "                        <th id=\"T_54a450b6_632e_11ea_b268_acde48001122level0_row2\" class=\"row_heading level0 row2\" >Other/Non Disclosed</th>\n",
       "                        <td id=\"T_54a450b6_632e_11ea_b268_acde48001122row2_col0\" class=\"data row2 col0\" >15</td>\n",
       "                        <td id=\"T_54a450b6_632e_11ea_b268_acde48001122row2_col1\" class=\"data row2 col1\" >3.346</td>\n",
       "                        <td id=\"T_54a450b6_632e_11ea_b268_acde48001122row2_col2\" class=\"data row2 col2\" >50.19</td>\n",
       "                        <td id=\"T_54a450b6_632e_11ea_b268_acde48001122row2_col3\" class=\"data row2 col3\" >3</td>\n",
       "            </tr>\n",
       "    </tbody></table>"
      ],
      "text/plain": [
       "<pandas.io.formats.style.Styler at 0x1213eb790>"
      ]
     },
     "execution_count": 158,
     "metadata": {},
     "output_type": "execute_result"
    }
   ],
   "source": [
    "Gender_analysis={\"Gender\":[\"Male\",\"Female\",\"Other/Non Disclosed\"],\"Purchase Count\":[len(male_data),len(female_data),len(other_gender)],\n",
    "                \"Average Purchase Price\":[male_data[\"Price\"].mean(),female_data[\"Price\"].mean(),other_gender[\"Price\"].mean()],\n",
    "                \"Total Purchase Value\":[male_data[\"Price\"].sum(),female_data[\"Price\"].sum(),other_gender[\"Price\"].sum()],\n",
    "                \"Avg Total Purchase per Person\":[male_data[\"Price\"].sum()/unique_male_ID_count,female_data[\"Price\"].sum()/unique_female_ID_count,3]}\n",
    "\n",
    "Gender_analysis=pd.DataFrame(Gender_analysis)\n",
    "Gender_analysis.set_index(\"Gender\",inplace=True)\n",
    "Gender_analysis.head().style"
   ]
  },
  {
   "cell_type": "markdown",
   "metadata": {},
   "source": [
    "## Age Demographics"
   ]
  },
  {
   "cell_type": "markdown",
   "metadata": {},
   "source": [
    "* Establish bins for ages\n",
    "\n",
    "\n",
    "* Categorize the existing players using the age bins. Hint: use pd.cut()\n",
    "\n",
    "\n",
    "* Calculate the numbers and percentages by age group\n",
    "\n",
    "\n",
    "* Create a summary data frame to hold the results\n",
    "\n",
    "\n",
    "* Optional: round the percentage column to two decimal points\n",
    "\n",
    "\n",
    "* Display Age Demographics Table\n"
   ]
  },
  {
   "cell_type": "code",
   "execution_count": null,
   "metadata": {},
   "outputs": [],
   "source": []
  },
  {
   "cell_type": "code",
   "execution_count": 159,
   "metadata": {},
   "outputs": [
    {
     "data": {
      "text/html": [
       "<style  type=\"text/css\" >\n",
       "</style><table id=\"T_85a67716_632e_11ea_b268_acde48001122\" ><thead>    <tr>        <th class=\"blank level0\" ></th>        <th class=\"col_heading level0 col0\" >Total count</th>        <th class=\"col_heading level0 col1\" >Percentage of players</th>    </tr></thead><tbody>\n",
       "                <tr>\n",
       "                        <th id=\"T_85a67716_632e_11ea_b268_acde48001122level0_row0\" class=\"row_heading level0 row0\" ><10</th>\n",
       "                        <td id=\"T_85a67716_632e_11ea_b268_acde48001122row0_col0\" class=\"data row0 col0\" >17</td>\n",
       "                        <td id=\"T_85a67716_632e_11ea_b268_acde48001122row0_col1\" class=\"data row0 col1\" >                2.95%</td>\n",
       "            </tr>\n",
       "            <tr>\n",
       "                        <th id=\"T_85a67716_632e_11ea_b268_acde48001122level0_row1\" class=\"row_heading level0 row1\" >10-14</th>\n",
       "                        <td id=\"T_85a67716_632e_11ea_b268_acde48001122row1_col0\" class=\"data row1 col0\" >22</td>\n",
       "                        <td id=\"T_85a67716_632e_11ea_b268_acde48001122row1_col1\" class=\"data row1 col1\" >                3.82%</td>\n",
       "            </tr>\n",
       "            <tr>\n",
       "                        <th id=\"T_85a67716_632e_11ea_b268_acde48001122level0_row2\" class=\"row_heading level0 row2\" >15-19</th>\n",
       "                        <td id=\"T_85a67716_632e_11ea_b268_acde48001122row2_col0\" class=\"data row2 col0\" >107</td>\n",
       "                        <td id=\"T_85a67716_632e_11ea_b268_acde48001122row2_col1\" class=\"data row2 col1\" >               18.58%</td>\n",
       "            </tr>\n",
       "            <tr>\n",
       "                        <th id=\"T_85a67716_632e_11ea_b268_acde48001122level0_row3\" class=\"row_heading level0 row3\" >20-24</th>\n",
       "                        <td id=\"T_85a67716_632e_11ea_b268_acde48001122row3_col0\" class=\"data row3 col0\" >258</td>\n",
       "                        <td id=\"T_85a67716_632e_11ea_b268_acde48001122row3_col1\" class=\"data row3 col1\" >               44.79%</td>\n",
       "            </tr>\n",
       "            <tr>\n",
       "                        <th id=\"T_85a67716_632e_11ea_b268_acde48001122level0_row4\" class=\"row_heading level0 row4\" >25-29</th>\n",
       "                        <td id=\"T_85a67716_632e_11ea_b268_acde48001122row4_col0\" class=\"data row4 col0\" >77</td>\n",
       "                        <td id=\"T_85a67716_632e_11ea_b268_acde48001122row4_col1\" class=\"data row4 col1\" >               13.37%</td>\n",
       "            </tr>\n",
       "            <tr>\n",
       "                        <th id=\"T_85a67716_632e_11ea_b268_acde48001122level0_row5\" class=\"row_heading level0 row5\" >30-34</th>\n",
       "                        <td id=\"T_85a67716_632e_11ea_b268_acde48001122row5_col0\" class=\"data row5 col0\" >52</td>\n",
       "                        <td id=\"T_85a67716_632e_11ea_b268_acde48001122row5_col1\" class=\"data row5 col1\" >                9.03%</td>\n",
       "            </tr>\n",
       "            <tr>\n",
       "                        <th id=\"T_85a67716_632e_11ea_b268_acde48001122level0_row6\" class=\"row_heading level0 row6\" >35-39</th>\n",
       "                        <td id=\"T_85a67716_632e_11ea_b268_acde48001122row6_col0\" class=\"data row6 col0\" >31</td>\n",
       "                        <td id=\"T_85a67716_632e_11ea_b268_acde48001122row6_col1\" class=\"data row6 col1\" >                5.38%</td>\n",
       "            </tr>\n",
       "            <tr>\n",
       "                        <th id=\"T_85a67716_632e_11ea_b268_acde48001122level0_row7\" class=\"row_heading level0 row7\" >40+</th>\n",
       "                        <td id=\"T_85a67716_632e_11ea_b268_acde48001122row7_col0\" class=\"data row7 col0\" >12</td>\n",
       "                        <td id=\"T_85a67716_632e_11ea_b268_acde48001122row7_col1\" class=\"data row7 col1\" >                2.08%</td>\n",
       "            </tr>\n",
       "    </tbody></table>"
      ],
      "text/plain": [
       "<pandas.io.formats.style.Styler at 0x1213fd410>"
      ]
     },
     "execution_count": 159,
     "metadata": {},
     "output_type": "execute_result"
    }
   ],
   "source": [
    "bins = [0,9,14,19,24,29,34,39,100]\n",
    "group_names = [\"<10\",\"10-14\",\"15-19\",\"20-24\",\"25-29\",\"30-34\",\"35-39\",\"40+\"]\n",
    "player_in_agegrp=[]\n",
    "Percent_player=[]\n",
    "\n",
    "purchase_data[\"Age group\"]=pd.cut(purchase_data[\"Age\"],bins, labels=group_names)\n",
    "\n",
    "purchase_data1=purchase_data.groupby(\"Age group\")\n",
    "playercount=(purchase_data1[\"SN\"].unique())\n",
    "for i in range(len(group_names)):\n",
    "     player_in_agegrp.append(len(playercount[i]))\n",
    "\n",
    "for i in range(len(player_in_agegrp)):\n",
    "    Percent_player.append(player_in_agegrp[i]/sum(player_in_agegrp)*100)\n",
    "\n",
    "\n",
    "Age_demographics=list(zip(player_in_agegrp,Percent_player))\n",
    "\n",
    "Age_demographics=pd.DataFrame(Age_demographics,columns=[\"Total count\",\"Percentage of players\"],index=group_names)\n",
    "\n",
    "Age_demographics.style.format({\"Percentage of players\":\"{:20,.2f}%\"})\n"
   ]
  },
  {
   "cell_type": "markdown",
   "metadata": {},
   "source": [
    "## Purchasing Analysis (Age)"
   ]
  },
  {
   "cell_type": "markdown",
   "metadata": {},
   "source": [
    "* Bin the purchase_data data frame by age\n",
    "\n",
    "\n",
    "* Run basic calculations to obtain purchase count, avg. purchase price, avg. purchase total per person etc. in the table below\n",
    "\n",
    "\n",
    "* Create a summary data frame to hold the results\n",
    "\n",
    "\n",
    "* Optional: give the displayed data cleaner formatting\n",
    "\n",
    "\n",
    "* Display the summary data frame"
   ]
  },
  {
   "cell_type": "code",
   "execution_count": 168,
   "metadata": {},
   "outputs": [
    {
     "data": {
      "text/html": [
       "<style  type=\"text/css\" >\n",
       "</style><table id=\"T_ffffd5e8_632e_11ea_b268_acde48001122\" ><thead>    <tr>        <th class=\"blank level0\" ></th>        <th class=\"col_heading level0 col0\" >Purchase Count</th>        <th class=\"col_heading level0 col1\" >Average Purchase Price</th>        <th class=\"col_heading level0 col2\" >Total Purchase Value</th>        <th class=\"col_heading level0 col3\" >Average Total Purchase per Person</th>    </tr>    <tr>        <th class=\"index_name level0\" >Age Ranges</th>        <th class=\"blank\" ></th>        <th class=\"blank\" ></th>        <th class=\"blank\" ></th>        <th class=\"blank\" ></th>    </tr></thead><tbody>\n",
       "                <tr>\n",
       "                        <th id=\"T_ffffd5e8_632e_11ea_b268_acde48001122level0_row0\" class=\"row_heading level0 row0\" ><10</th>\n",
       "                        <td id=\"T_ffffd5e8_632e_11ea_b268_acde48001122row0_col0\" class=\"data row0 col0\" >23</td>\n",
       "                        <td id=\"T_ffffd5e8_632e_11ea_b268_acde48001122row0_col1\" class=\"data row0 col1\" >$                3.35</td>\n",
       "                        <td id=\"T_ffffd5e8_632e_11ea_b268_acde48001122row0_col2\" class=\"data row0 col2\" >$               77.13</td>\n",
       "                        <td id=\"T_ffffd5e8_632e_11ea_b268_acde48001122row0_col3\" class=\"data row0 col3\" >$                4.54</td>\n",
       "            </tr>\n",
       "            <tr>\n",
       "                        <th id=\"T_ffffd5e8_632e_11ea_b268_acde48001122level0_row1\" class=\"row_heading level0 row1\" >10-14</th>\n",
       "                        <td id=\"T_ffffd5e8_632e_11ea_b268_acde48001122row1_col0\" class=\"data row1 col0\" >28</td>\n",
       "                        <td id=\"T_ffffd5e8_632e_11ea_b268_acde48001122row1_col1\" class=\"data row1 col1\" >$                2.96</td>\n",
       "                        <td id=\"T_ffffd5e8_632e_11ea_b268_acde48001122row1_col2\" class=\"data row1 col2\" >$               82.78</td>\n",
       "                        <td id=\"T_ffffd5e8_632e_11ea_b268_acde48001122row1_col3\" class=\"data row1 col3\" >$                3.76</td>\n",
       "            </tr>\n",
       "            <tr>\n",
       "                        <th id=\"T_ffffd5e8_632e_11ea_b268_acde48001122level0_row2\" class=\"row_heading level0 row2\" >15-19</th>\n",
       "                        <td id=\"T_ffffd5e8_632e_11ea_b268_acde48001122row2_col0\" class=\"data row2 col0\" >136</td>\n",
       "                        <td id=\"T_ffffd5e8_632e_11ea_b268_acde48001122row2_col1\" class=\"data row2 col1\" >$                3.04</td>\n",
       "                        <td id=\"T_ffffd5e8_632e_11ea_b268_acde48001122row2_col2\" class=\"data row2 col2\" >$              412.89</td>\n",
       "                        <td id=\"T_ffffd5e8_632e_11ea_b268_acde48001122row2_col3\" class=\"data row2 col3\" >$                3.86</td>\n",
       "            </tr>\n",
       "            <tr>\n",
       "                        <th id=\"T_ffffd5e8_632e_11ea_b268_acde48001122level0_row3\" class=\"row_heading level0 row3\" >20-24</th>\n",
       "                        <td id=\"T_ffffd5e8_632e_11ea_b268_acde48001122row3_col0\" class=\"data row3 col0\" >365</td>\n",
       "                        <td id=\"T_ffffd5e8_632e_11ea_b268_acde48001122row3_col1\" class=\"data row3 col1\" >$                3.05</td>\n",
       "                        <td id=\"T_ffffd5e8_632e_11ea_b268_acde48001122row3_col2\" class=\"data row3 col2\" >$            1,114.06</td>\n",
       "                        <td id=\"T_ffffd5e8_632e_11ea_b268_acde48001122row3_col3\" class=\"data row3 col3\" >$                4.32</td>\n",
       "            </tr>\n",
       "            <tr>\n",
       "                        <th id=\"T_ffffd5e8_632e_11ea_b268_acde48001122level0_row4\" class=\"row_heading level0 row4\" >25-29</th>\n",
       "                        <td id=\"T_ffffd5e8_632e_11ea_b268_acde48001122row4_col0\" class=\"data row4 col0\" >101</td>\n",
       "                        <td id=\"T_ffffd5e8_632e_11ea_b268_acde48001122row4_col1\" class=\"data row4 col1\" >$                2.90</td>\n",
       "                        <td id=\"T_ffffd5e8_632e_11ea_b268_acde48001122row4_col2\" class=\"data row4 col2\" >$              293.00</td>\n",
       "                        <td id=\"T_ffffd5e8_632e_11ea_b268_acde48001122row4_col3\" class=\"data row4 col3\" >$                3.81</td>\n",
       "            </tr>\n",
       "            <tr>\n",
       "                        <th id=\"T_ffffd5e8_632e_11ea_b268_acde48001122level0_row5\" class=\"row_heading level0 row5\" >30-34</th>\n",
       "                        <td id=\"T_ffffd5e8_632e_11ea_b268_acde48001122row5_col0\" class=\"data row5 col0\" >73</td>\n",
       "                        <td id=\"T_ffffd5e8_632e_11ea_b268_acde48001122row5_col1\" class=\"data row5 col1\" >$                2.93</td>\n",
       "                        <td id=\"T_ffffd5e8_632e_11ea_b268_acde48001122row5_col2\" class=\"data row5 col2\" >$              214.00</td>\n",
       "                        <td id=\"T_ffffd5e8_632e_11ea_b268_acde48001122row5_col3\" class=\"data row5 col3\" >$                4.12</td>\n",
       "            </tr>\n",
       "            <tr>\n",
       "                        <th id=\"T_ffffd5e8_632e_11ea_b268_acde48001122level0_row6\" class=\"row_heading level0 row6\" >35-39</th>\n",
       "                        <td id=\"T_ffffd5e8_632e_11ea_b268_acde48001122row6_col0\" class=\"data row6 col0\" >41</td>\n",
       "                        <td id=\"T_ffffd5e8_632e_11ea_b268_acde48001122row6_col1\" class=\"data row6 col1\" >$                3.60</td>\n",
       "                        <td id=\"T_ffffd5e8_632e_11ea_b268_acde48001122row6_col2\" class=\"data row6 col2\" >$              147.67</td>\n",
       "                        <td id=\"T_ffffd5e8_632e_11ea_b268_acde48001122row6_col3\" class=\"data row6 col3\" >$                4.76</td>\n",
       "            </tr>\n",
       "            <tr>\n",
       "                        <th id=\"T_ffffd5e8_632e_11ea_b268_acde48001122level0_row7\" class=\"row_heading level0 row7\" >40+</th>\n",
       "                        <td id=\"T_ffffd5e8_632e_11ea_b268_acde48001122row7_col0\" class=\"data row7 col0\" >13</td>\n",
       "                        <td id=\"T_ffffd5e8_632e_11ea_b268_acde48001122row7_col1\" class=\"data row7 col1\" >$                2.94</td>\n",
       "                        <td id=\"T_ffffd5e8_632e_11ea_b268_acde48001122row7_col2\" class=\"data row7 col2\" >$               38.24</td>\n",
       "                        <td id=\"T_ffffd5e8_632e_11ea_b268_acde48001122row7_col3\" class=\"data row7 col3\" >$                3.19</td>\n",
       "            </tr>\n",
       "    </tbody></table>"
      ],
      "text/plain": [
       "<pandas.io.formats.style.Styler at 0x1215de710>"
      ]
     },
     "execution_count": 168,
     "metadata": {},
     "output_type": "execute_result"
    }
   ],
   "source": [
    "purchase_count=[]\n",
    "purchase_count=purchase_data1[\"Purchase ID\"].count()\n",
    "\n",
    "Average_purchase_price=[]\n",
    "Average_purchase_price=purchase_data1[\"Price\"].mean()\n",
    "\n",
    "Total_purchase_value=[]\n",
    "Total_purchase_value=purchase_data1[\"Price\"].sum()\n",
    "\n",
    "Average_total_purchase_per_person=[]\n",
    "for i in range(len(player_in_agegrp)):\n",
    "    Average_total_purchase_per_person.append(Total_purchase_value[i]/player_in_agegrp[i])\n",
    "    \n",
    "Purchasing_analysis=list(zip(group_names,purchase_count,Average_purchase_price,Total_purchase_value,Average_total_purchase_per_person))\n",
    "\n",
    "Purchasing_analysis_df=pd.DataFrame(Purchasing_analysis,\n",
    "                                    columns=[\"Age Ranges\",\"Purchase Count\",\"Average Purchase Price\",\"Total Purchase Value\",\n",
    "                                             \"Average Total Purchase per Person\"])\n",
    "\n",
    "Purchasing_analysis_df.set_index(\"Age Ranges\").style.format({\"Total Purchase Value\": \"${:20,.2f}\",\"Average Purchase Price\": \"${:20,.2f}\",\n",
    "                                                             \"Average Total Purchase per Person\": \"${:20,.2f}\"})\n"
   ]
  },
  {
   "cell_type": "markdown",
   "metadata": {},
   "source": [
    "## Top Spenders"
   ]
  },
  {
   "cell_type": "markdown",
   "metadata": {},
   "source": [
    "* Run basic calculations to obtain the results in the table below\n",
    "\n",
    "\n",
    "* Create a summary data frame to hold the results\n",
    "\n",
    "\n",
    "* Sort the total purchase value column in descending order\n",
    "\n",
    "\n",
    "* Optional: give the displayed data cleaner formatting\n",
    "\n",
    "\n",
    "* Display a preview of the summary data frame\n",
    "\n"
   ]
  },
  {
   "cell_type": "code",
   "execution_count": 170,
   "metadata": {},
   "outputs": [
    {
     "data": {
      "text/html": [
       "<style  type=\"text/css\" >\n",
       "</style><table id=\"T_275b1210_632f_11ea_b268_acde48001122\" ><thead>    <tr>        <th class=\"blank level0\" ></th>        <th class=\"col_heading level0 col0\" >Purchase Count</th>        <th class=\"col_heading level0 col1\" >Average Purchase Price</th>        <th class=\"col_heading level0 col2\" >Total Purchase Value</th>    </tr>    <tr>        <th class=\"index_name level0\" >SN</th>        <th class=\"blank\" ></th>        <th class=\"blank\" ></th>        <th class=\"blank\" ></th>    </tr></thead><tbody>\n",
       "                <tr>\n",
       "                        <th id=\"T_275b1210_632f_11ea_b268_acde48001122level0_row0\" class=\"row_heading level0 row0\" >Lisosia93</th>\n",
       "                        <td id=\"T_275b1210_632f_11ea_b268_acde48001122row0_col0\" class=\"data row0 col0\" >5</td>\n",
       "                        <td id=\"T_275b1210_632f_11ea_b268_acde48001122row0_col1\" class=\"data row0 col1\" >$                3.79</td>\n",
       "                        <td id=\"T_275b1210_632f_11ea_b268_acde48001122row0_col2\" class=\"data row0 col2\" >$               18.96</td>\n",
       "            </tr>\n",
       "            <tr>\n",
       "                        <th id=\"T_275b1210_632f_11ea_b268_acde48001122level0_row1\" class=\"row_heading level0 row1\" >Idastidru52</th>\n",
       "                        <td id=\"T_275b1210_632f_11ea_b268_acde48001122row1_col0\" class=\"data row1 col0\" >4</td>\n",
       "                        <td id=\"T_275b1210_632f_11ea_b268_acde48001122row1_col1\" class=\"data row1 col1\" >$                3.86</td>\n",
       "                        <td id=\"T_275b1210_632f_11ea_b268_acde48001122row1_col2\" class=\"data row1 col2\" >$               15.45</td>\n",
       "            </tr>\n",
       "            <tr>\n",
       "                        <th id=\"T_275b1210_632f_11ea_b268_acde48001122level0_row2\" class=\"row_heading level0 row2\" >Chamjask73</th>\n",
       "                        <td id=\"T_275b1210_632f_11ea_b268_acde48001122row2_col0\" class=\"data row2 col0\" >3</td>\n",
       "                        <td id=\"T_275b1210_632f_11ea_b268_acde48001122row2_col1\" class=\"data row2 col1\" >$                4.61</td>\n",
       "                        <td id=\"T_275b1210_632f_11ea_b268_acde48001122row2_col2\" class=\"data row2 col2\" >$               13.83</td>\n",
       "            </tr>\n",
       "            <tr>\n",
       "                        <th id=\"T_275b1210_632f_11ea_b268_acde48001122level0_row3\" class=\"row_heading level0 row3\" >Iral74</th>\n",
       "                        <td id=\"T_275b1210_632f_11ea_b268_acde48001122row3_col0\" class=\"data row3 col0\" >4</td>\n",
       "                        <td id=\"T_275b1210_632f_11ea_b268_acde48001122row3_col1\" class=\"data row3 col1\" >$                3.40</td>\n",
       "                        <td id=\"T_275b1210_632f_11ea_b268_acde48001122row3_col2\" class=\"data row3 col2\" >$               13.62</td>\n",
       "            </tr>\n",
       "            <tr>\n",
       "                        <th id=\"T_275b1210_632f_11ea_b268_acde48001122level0_row4\" class=\"row_heading level0 row4\" >Iskadarya95</th>\n",
       "                        <td id=\"T_275b1210_632f_11ea_b268_acde48001122row4_col0\" class=\"data row4 col0\" >3</td>\n",
       "                        <td id=\"T_275b1210_632f_11ea_b268_acde48001122row4_col1\" class=\"data row4 col1\" >$                4.37</td>\n",
       "                        <td id=\"T_275b1210_632f_11ea_b268_acde48001122row4_col2\" class=\"data row4 col2\" >$               13.10</td>\n",
       "            </tr>\n",
       "    </tbody></table>"
      ],
      "text/plain": [
       "<pandas.io.formats.style.Styler at 0x1215bf610>"
      ]
     },
     "execution_count": 170,
     "metadata": {},
     "output_type": "execute_result"
    }
   ],
   "source": [
    "purchase_data2=purchase_data.groupby(\"SN\")\n",
    "Total_purchase_value2=purchase_data2[\"Price\"].sum().sort_values(ascending=False)\n",
    "Total_purchase_value2_df=pd.DataFrame(Total_purchase_value2)\n",
    "Top_spenders_SN=[]\n",
    "TS_total_pv=[]\n",
    "\n",
    "for i in range(5):\n",
    "    Top_spenders_SN.append(Total_purchase_value2_df.index[i])\n",
    "    TS_total_pv.append(Total_purchase_value2[i])\n",
    "\n",
    "\n",
    "Top_spenders_SN\n",
    "TS_purchase_count=[]\n",
    "for i in Top_spenders_SN:\n",
    "    TS_purchase_count.append(len(purchase_data.loc[(purchase_data[\"SN\"] == i)]))\n",
    "\n",
    "\n",
    "TS_average_pp=[]\n",
    "\n",
    "for i in range(len(Top_spenders_SN)):\n",
    "    TS_average_pp.append(TS_total_pv[i]/TS_purchase_count[i])\n",
    "\n",
    "TS_average_pp\n",
    "\n",
    "Total_spenders=pd.DataFrame(list(zip(Top_spenders_SN,TS_purchase_count,TS_average_pp,TS_total_pv)),columns=[\"SN\",\"Purchase Count\",\n",
    "                            \"Average Purchase Price\",\"Total Purchase Value\"])\n",
    "Total_spenders.set_index(\"SN\").style.format({\"Total Purchase Value\": \"${:20,.2f}\",\"Average Purchase Price\": \"${:20,.2f}\"})\n"
   ]
  },
  {
   "cell_type": "markdown",
   "metadata": {},
   "source": [
    "## Most Popular Items"
   ]
  },
  {
   "cell_type": "markdown",
   "metadata": {},
   "source": [
    "* Retrieve the Item ID, Item Name, and Item Price columns\n",
    "\n",
    "\n",
    "* Group by Item ID and Item Name. Perform calculations to obtain purchase count, item price, and total purchase value\n",
    "\n",
    "\n",
    "* Create a summary data frame to hold the results\n",
    "\n",
    "\n",
    "* Sort the purchase count column in descending order\n",
    "\n",
    "\n",
    "* Optional: give the displayed data cleaner formatting\n",
    "\n",
    "\n",
    "* Display a preview of the summary data frame\n",
    "\n"
   ]
  },
  {
   "cell_type": "code",
   "execution_count": 99,
   "metadata": {},
   "outputs": [],
   "source": [
    "Item_data=purchase_data[[\"Item ID\",\"Item Name\",\"Price\"]]\n",
    "Item_data_group=Item_data.groupby([\"Item ID\",\"Item Name\"])\n",
    "Item_data_group1=Item_data_group.sum()#.sort_values(\"Price\",ascending=False)\n",
    "Item_data_group_df=pd.DataFrame(Item_data_group1)\n",
    "Item_names=[]\n",
    "Item_IDs=[]\n",
    "for i in range(len(Item_data_group_df)):\n",
    "    Item_names.append(Item_data_group_df.index[i][1])\n",
    "    Item_IDs.append(Item_data_group_df.index[i][0])\n"
   ]
  },
  {
   "cell_type": "code",
   "execution_count": 100,
   "metadata": {},
   "outputs": [],
   "source": [
    "Item_purchase_count=[]\n",
    "\n",
    "for j in Item_IDs:\n",
    "    \n",
    "    Item_purchase_count.append(len(purchase_data.loc[purchase_data[\"Item ID\"]==j]))\n"
   ]
  },
  {
   "cell_type": "code",
   "execution_count": 101,
   "metadata": {},
   "outputs": [],
   "source": [
    "Item_price=[]\n",
    "for i in Item_names:\n",
    "    for x in purchase_data.iterrows():\n",
    "        if (x[1][\"Item Name\"]==i):\n",
    "            Item_price.append(x[1][\"Price\"])\n",
    "            break\n",
    "\n",
    "Total_price=[]\n",
    "\n",
    "for x in range(len(Item_price)):\n",
    "    Total_price.append(Item_price[x]*Item_purchase_count[x])"
   ]
  },
  {
   "cell_type": "code",
   "execution_count": 174,
   "metadata": {},
   "outputs": [
    {
     "data": {
      "text/html": [
       "<style  type=\"text/css\" >\n",
       "</style><table id=\"T_5914fa28_632f_11ea_b268_acde48001122\" ><thead>    <tr>        <th class=\"blank level0\" ></th>        <th class=\"col_heading level0 col0\" >Item Name</th>        <th class=\"col_heading level0 col1\" >Purchase Count</th>        <th class=\"col_heading level0 col2\" >Item Price</th>        <th class=\"col_heading level0 col3\" >Total Purchase Value</th>    </tr>    <tr>        <th class=\"index_name level0\" >Item ID</th>        <th class=\"blank\" ></th>        <th class=\"blank\" ></th>        <th class=\"blank\" ></th>        <th class=\"blank\" ></th>    </tr></thead><tbody>\n",
       "                <tr>\n",
       "                        <th id=\"T_5914fa28_632f_11ea_b268_acde48001122level0_row0\" class=\"row_heading level0 row0\" >178</th>\n",
       "                        <td id=\"T_5914fa28_632f_11ea_b268_acde48001122row0_col0\" class=\"data row0 col0\" >Oathbreaker, Last Hope of the Breaking Storm</td>\n",
       "                        <td id=\"T_5914fa28_632f_11ea_b268_acde48001122row0_col1\" class=\"data row0 col1\" >12</td>\n",
       "                        <td id=\"T_5914fa28_632f_11ea_b268_acde48001122row0_col2\" class=\"data row0 col2\" >$                4.23</td>\n",
       "                        <td id=\"T_5914fa28_632f_11ea_b268_acde48001122row0_col3\" class=\"data row0 col3\" >$               50.76</td>\n",
       "            </tr>\n",
       "            <tr>\n",
       "                        <th id=\"T_5914fa28_632f_11ea_b268_acde48001122level0_row1\" class=\"row_heading level0 row1\" >145</th>\n",
       "                        <td id=\"T_5914fa28_632f_11ea_b268_acde48001122row1_col0\" class=\"data row1 col0\" >Fiery Glass Crusader</td>\n",
       "                        <td id=\"T_5914fa28_632f_11ea_b268_acde48001122row1_col1\" class=\"data row1 col1\" >9</td>\n",
       "                        <td id=\"T_5914fa28_632f_11ea_b268_acde48001122row1_col2\" class=\"data row1 col2\" >$                4.58</td>\n",
       "                        <td id=\"T_5914fa28_632f_11ea_b268_acde48001122row1_col3\" class=\"data row1 col3\" >$               41.22</td>\n",
       "            </tr>\n",
       "            <tr>\n",
       "                        <th id=\"T_5914fa28_632f_11ea_b268_acde48001122level0_row2\" class=\"row_heading level0 row2\" >108</th>\n",
       "                        <td id=\"T_5914fa28_632f_11ea_b268_acde48001122row2_col0\" class=\"data row2 col0\" >Extraction, Quickblade Of Trembling Hands</td>\n",
       "                        <td id=\"T_5914fa28_632f_11ea_b268_acde48001122row2_col1\" class=\"data row2 col1\" >9</td>\n",
       "                        <td id=\"T_5914fa28_632f_11ea_b268_acde48001122row2_col2\" class=\"data row2 col2\" >$                3.53</td>\n",
       "                        <td id=\"T_5914fa28_632f_11ea_b268_acde48001122row2_col3\" class=\"data row2 col3\" >$               31.77</td>\n",
       "            </tr>\n",
       "            <tr>\n",
       "                        <th id=\"T_5914fa28_632f_11ea_b268_acde48001122level0_row3\" class=\"row_heading level0 row3\" >82</th>\n",
       "                        <td id=\"T_5914fa28_632f_11ea_b268_acde48001122row3_col0\" class=\"data row3 col0\" >Nirvana</td>\n",
       "                        <td id=\"T_5914fa28_632f_11ea_b268_acde48001122row3_col1\" class=\"data row3 col1\" >9</td>\n",
       "                        <td id=\"T_5914fa28_632f_11ea_b268_acde48001122row3_col2\" class=\"data row3 col2\" >$                4.90</td>\n",
       "                        <td id=\"T_5914fa28_632f_11ea_b268_acde48001122row3_col3\" class=\"data row3 col3\" >$               44.10</td>\n",
       "            </tr>\n",
       "            <tr>\n",
       "                        <th id=\"T_5914fa28_632f_11ea_b268_acde48001122level0_row4\" class=\"row_heading level0 row4\" >19</th>\n",
       "                        <td id=\"T_5914fa28_632f_11ea_b268_acde48001122row4_col0\" class=\"data row4 col0\" >Pursuit, Cudgel of Necromancy</td>\n",
       "                        <td id=\"T_5914fa28_632f_11ea_b268_acde48001122row4_col1\" class=\"data row4 col1\" >8</td>\n",
       "                        <td id=\"T_5914fa28_632f_11ea_b268_acde48001122row4_col2\" class=\"data row4 col2\" >$                1.02</td>\n",
       "                        <td id=\"T_5914fa28_632f_11ea_b268_acde48001122row4_col3\" class=\"data row4 col3\" >$                8.16</td>\n",
       "            </tr>\n",
       "    </tbody></table>"
      ],
      "text/plain": [
       "<pandas.io.formats.style.Styler at 0x1217ed310>"
      ]
     },
     "execution_count": 174,
     "metadata": {},
     "output_type": "execute_result"
    }
   ],
   "source": [
    "Most_popular_items=pd.DataFrame(list(zip(Item_IDs,Item_names,Item_purchase_count,Item_price,Total_price)),columns=[\"Item ID\",\"Item Name\",\"Purchase Count\",\"Item Price\",\"Total Purchase Value\"])\n",
    "Most_popular_items.sort_values(\"Purchase Count\",ascending=False).head().set_index(\"Item ID\").style.format({\"Total Purchase Value\": \"${:20,.2f}\",\"Item Price\": \"${:20,.2f}\"})\n"
   ]
  },
  {
   "cell_type": "markdown",
   "metadata": {},
   "source": [
    "## Most Profitable Items"
   ]
  },
  {
   "cell_type": "markdown",
   "metadata": {},
   "source": [
    "* Sort the above table by total purchase value in descending order\n",
    "\n",
    "\n",
    "* Optional: give the displayed data cleaner formatting\n",
    "\n",
    "\n",
    "* Display a preview of the data frame\n",
    "\n"
   ]
  },
  {
   "cell_type": "code",
   "execution_count": 176,
   "metadata": {
    "scrolled": true
   },
   "outputs": [
    {
     "data": {
      "text/html": [
       "<style  type=\"text/css\" >\n",
       "</style><table id=\"T_7982da46_632f_11ea_b268_acde48001122\" ><thead>    <tr>        <th class=\"blank level0\" ></th>        <th class=\"col_heading level0 col0\" >Item Name</th>        <th class=\"col_heading level0 col1\" >Purchase Count</th>        <th class=\"col_heading level0 col2\" >Item Price</th>        <th class=\"col_heading level0 col3\" >Total Purchase Value</th>    </tr>    <tr>        <th class=\"index_name level0\" >Item ID</th>        <th class=\"blank\" ></th>        <th class=\"blank\" ></th>        <th class=\"blank\" ></th>        <th class=\"blank\" ></th>    </tr></thead><tbody>\n",
       "                <tr>\n",
       "                        <th id=\"T_7982da46_632f_11ea_b268_acde48001122level0_row0\" class=\"row_heading level0 row0\" >178</th>\n",
       "                        <td id=\"T_7982da46_632f_11ea_b268_acde48001122row0_col0\" class=\"data row0 col0\" >Oathbreaker, Last Hope of the Breaking Storm</td>\n",
       "                        <td id=\"T_7982da46_632f_11ea_b268_acde48001122row0_col1\" class=\"data row0 col1\" >12</td>\n",
       "                        <td id=\"T_7982da46_632f_11ea_b268_acde48001122row0_col2\" class=\"data row0 col2\" >$                4.23</td>\n",
       "                        <td id=\"T_7982da46_632f_11ea_b268_acde48001122row0_col3\" class=\"data row0 col3\" >$               50.76</td>\n",
       "            </tr>\n",
       "            <tr>\n",
       "                        <th id=\"T_7982da46_632f_11ea_b268_acde48001122level0_row1\" class=\"row_heading level0 row1\" >82</th>\n",
       "                        <td id=\"T_7982da46_632f_11ea_b268_acde48001122row1_col0\" class=\"data row1 col0\" >Nirvana</td>\n",
       "                        <td id=\"T_7982da46_632f_11ea_b268_acde48001122row1_col1\" class=\"data row1 col1\" >9</td>\n",
       "                        <td id=\"T_7982da46_632f_11ea_b268_acde48001122row1_col2\" class=\"data row1 col2\" >$                4.90</td>\n",
       "                        <td id=\"T_7982da46_632f_11ea_b268_acde48001122row1_col3\" class=\"data row1 col3\" >$               44.10</td>\n",
       "            </tr>\n",
       "            <tr>\n",
       "                        <th id=\"T_7982da46_632f_11ea_b268_acde48001122level0_row2\" class=\"row_heading level0 row2\" >145</th>\n",
       "                        <td id=\"T_7982da46_632f_11ea_b268_acde48001122row2_col0\" class=\"data row2 col0\" >Fiery Glass Crusader</td>\n",
       "                        <td id=\"T_7982da46_632f_11ea_b268_acde48001122row2_col1\" class=\"data row2 col1\" >9</td>\n",
       "                        <td id=\"T_7982da46_632f_11ea_b268_acde48001122row2_col2\" class=\"data row2 col2\" >$                4.58</td>\n",
       "                        <td id=\"T_7982da46_632f_11ea_b268_acde48001122row2_col3\" class=\"data row2 col3\" >$               41.22</td>\n",
       "            </tr>\n",
       "            <tr>\n",
       "                        <th id=\"T_7982da46_632f_11ea_b268_acde48001122level0_row3\" class=\"row_heading level0 row3\" >92</th>\n",
       "                        <td id=\"T_7982da46_632f_11ea_b268_acde48001122row3_col0\" class=\"data row3 col0\" >Final Critic</td>\n",
       "                        <td id=\"T_7982da46_632f_11ea_b268_acde48001122row3_col1\" class=\"data row3 col1\" >8</td>\n",
       "                        <td id=\"T_7982da46_632f_11ea_b268_acde48001122row3_col2\" class=\"data row3 col2\" >$                4.88</td>\n",
       "                        <td id=\"T_7982da46_632f_11ea_b268_acde48001122row3_col3\" class=\"data row3 col3\" >$               39.04</td>\n",
       "            </tr>\n",
       "            <tr>\n",
       "                        <th id=\"T_7982da46_632f_11ea_b268_acde48001122level0_row4\" class=\"row_heading level0 row4\" >103</th>\n",
       "                        <td id=\"T_7982da46_632f_11ea_b268_acde48001122row4_col0\" class=\"data row4 col0\" >Singed Scalpel</td>\n",
       "                        <td id=\"T_7982da46_632f_11ea_b268_acde48001122row4_col1\" class=\"data row4 col1\" >8</td>\n",
       "                        <td id=\"T_7982da46_632f_11ea_b268_acde48001122row4_col2\" class=\"data row4 col2\" >$                4.35</td>\n",
       "                        <td id=\"T_7982da46_632f_11ea_b268_acde48001122row4_col3\" class=\"data row4 col3\" >$               34.80</td>\n",
       "            </tr>\n",
       "    </tbody></table>"
      ],
      "text/plain": [
       "<pandas.io.formats.style.Styler at 0x121731e90>"
      ]
     },
     "execution_count": 176,
     "metadata": {},
     "output_type": "execute_result"
    }
   ],
   "source": [
    "\n",
    "Most_popular_items.sort_values(\"Total Purchase Value\",ascending=False).head().set_index(\"Item ID\").style.format({\"Total Purchase Value\": \"${:20,.2f}\",\"Item Price\": \"${:20,.2f}\"})\n",
    "\n"
   ]
  },
  {
   "cell_type": "code",
   "execution_count": null,
   "metadata": {},
   "outputs": [],
   "source": []
  }
 ],
 "metadata": {
  "anaconda-cloud": {},
  "kernel_info": {
   "name": "python3"
  },
  "kernelspec": {
   "display_name": "Python 3",
   "language": "python",
   "name": "python3"
  },
  "language_info": {
   "codemirror_mode": {
    "name": "ipython",
    "version": 3
   },
   "file_extension": ".py",
   "mimetype": "text/x-python",
   "name": "python",
   "nbconvert_exporter": "python",
   "pygments_lexer": "ipython3",
   "version": "3.7.4"
  },
  "latex_envs": {
   "LaTeX_envs_menu_present": true,
   "autoclose": false,
   "autocomplete": true,
   "bibliofile": "biblio.bib",
   "cite_by": "apalike",
   "current_citInitial": 1,
   "eqLabelWithNumbers": true,
   "eqNumInitial": 1,
   "hotkeys": {
    "equation": "Ctrl-E",
    "itemize": "Ctrl-I"
   },
   "labels_anchors": false,
   "latex_user_defs": false,
   "report_style_numbering": false,
   "user_envs_cfg": false
  },
  "nteract": {
   "version": "0.2.0"
  }
 },
 "nbformat": 4,
 "nbformat_minor": 4
}
